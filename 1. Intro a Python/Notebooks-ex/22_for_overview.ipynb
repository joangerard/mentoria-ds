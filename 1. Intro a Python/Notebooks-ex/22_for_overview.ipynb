{
 "cells": [
  {
   "cell_type": "markdown",
   "metadata": {},
   "source": [
    "# 22. Detalles adicionales sobre el bucle for\n",
    "\n",
    "## Varias maneras para repetir comandos en listas y más\n",
    "\n",
    "[Learn Python with Jupyter](https://learnpythonwithjupyter.com/) (Aprende Python con Jupyter): [Serena Bonaretti](https://sbonaretti.github.io/)   \n",
    "Tradución al español mexicano (es-MX): [Rodrigo Ernesto Álvarez Aguilera](https://incognia.github.io/)   \n",
    "Licencia de contenido: [CC BY-NC-SA](https://creativecommons.org/licenses/by-nc-sa/2.0/). Licencia de código: [GNU-GPL v3](https://www.gnu.org/licenses/gpl-3.0.en.html)  \n",
    "\n",
    "---"
   ]
  },
  {
   "cell_type": "markdown",
   "metadata": {},
   "source": [
    "## 1. Repetir comandos\n",
    "\n",
    "- Imprimir 3 números aleatorios entre 1 y 10:"
   ]
  },
  {
   "cell_type": "code",
   "execution_count": null,
   "metadata": {
    "tags": []
   },
   "outputs": [],
   "source": [
    "import random\n",
    "\n",
    "for _ in range(3):\n",
    "    numero = random.randint(1, 10)\n",
    "    print(numero)"
   ]
  },
  {
   "cell_type": "markdown",
   "metadata": {},
   "source": [
    "---\n",
    "## 2. Bucles for con listas"
   ]
  },
  {
   "cell_type": "markdown",
   "metadata": {
    "tags": []
   },
   "source": [
    "### 2.1. For loop through *indices*\n",
    "\n",
    "- Capitalize each string using a for loop through *indices*:"
   ]
  },
  {
   "cell_type": "code",
   "execution_count": null,
   "metadata": {},
   "outputs": [],
   "source": [
    "last_names = [\"garcia\", \"smith\", \"zhang\"]\n",
    "\n",
    "for i in range (len(last_names)):\n",
    "    print (\"The element in position \" + str(i) + \" is: \" + last_names[i])\n",
    "    last_names[i] = last_names[i].title()\n",
    "\n",
    "print (last_names)"
   ]
  },
  {
   "cell_type": "markdown",
   "metadata": {
    "tags": []
   },
   "source": [
    "### 2.2 Bucle for a través de *elementos*\n",
    "\n",
    "- Capitalizar cada cadena usando un bucle for a través de *elementos*:"
   ]
  },
  {
   "cell_type": "code",
   "execution_count": null,
   "metadata": {},
   "outputs": [],
   "source": [
    "apellidos = [\"garcía\", \"smith\", \"zhang\"]\n",
    "apellidos_mayusculas = []\n",
    "\n",
    "for apellido in apellidos:\n",
    "    print(\"El elemento actual es: \" + apellido)\n",
    "    apellidos_mayusculas.append(apellido.title())\n",
    "\n",
    "print(apellidos_mayusculas)"
   ]
  },
  {
   "cell_type": "markdown",
   "metadata": {},
   "source": [
    "### 2.3 Bucle for a través de *índices* y *elementos*\n",
    "\n",
    "- Capitalizar cada cadena usando un bucle for a través de *índices y elementos*:"
   ]
  },
  {
   "cell_type": "code",
   "execution_count": null,
   "metadata": {
    "tags": []
   },
   "outputs": [],
   "source": [
    "apellidos = [\"garcía\", \"smith\", \"zhang\"]\n",
    "\n",
    "for i, apellido in enumerate(apellidos):\n",
    "    print(\"El elemento en la posición \" + str(i) + \" es: \" + apellido)\n",
    "    apellidos[i] = apellido.title()\n",
    "\n",
    "print(apellidos)"
   ]
  },
  {
   "cell_type": "markdown",
   "metadata": {},
   "source": [
    "### 2.4 Construcción de listas\n",
    "\n",
    "- Capitalizar cada cadena utilizando *construcción de listas* que contiene un bucle for a través de *índices*:"
   ]
  },
  {
   "cell_type": "code",
   "execution_count": null,
   "metadata": {},
   "outputs": [],
   "source": [
    "apellidos = [\"garcía\", \"smith\", \"zhang\"]\n",
    "apellidos = [apellidos[i].title() for i in range(len(apellidos))]\n",
    "print(apellidos)"
   ]
  },
  {
   "cell_type": "markdown",
   "metadata": {},
   "source": [
    "- Capitalizar cada cadena utilizando *construcción de listas* que contiene un bucle for a través de *elementos*:"
   ]
  },
  {
   "cell_type": "code",
   "execution_count": null,
   "metadata": {},
   "outputs": [],
   "source": [
    "apellidos = [\"garcía\", \"smith\", \"zhang\"]\n",
    "apellidos = [apellido.title() for apellido in apellidos]\n",
    "print(apellidos)"
   ]
  },
  {
   "cell_type": "markdown",
   "metadata": {
    "tags": []
   },
   "source": [
    "- Conserva y capitaliza solo los elementos con menos de 6 caracteres:"
   ]
  },
  {
   "cell_type": "code",
   "execution_count": null,
   "metadata": {},
   "outputs": [],
   "source": [
    "apellidos = [\"garcía\", \"smith\", \"zhang\"]\n",
    "apellidos = [apellido.title() for apellido in apellidos if len(apellido) < 6]\n",
    "print(apellidos)\n"
   ]
  },
  {
   "cell_type": "markdown",
   "metadata": {},
   "source": [
    "- Elimina elementos que estén compuestos por 5 caracteres:"
   ]
  },
  {
   "cell_type": "code",
   "execution_count": null,
   "metadata": {},
   "outputs": [],
   "source": [
    "apellidos = [\"garcía\", \"smith\", \"zhang\"]\n",
    "apellidos = [apellido for apellido in apellidos if len(apellido) != 5]\n",
    "print(apellidos)"
   ]
  },
  {
   "cell_type": "markdown",
   "metadata": {},
   "source": [
    "---\n",
    "## 3. Bucles for anidados\n",
    "\n",
    "- Dada la siguiente lista de vocales:"
   ]
  },
  {
   "cell_type": "code",
   "execution_count": null,
   "metadata": {},
   "outputs": [],
   "source": [
    "vocales = [\"A\", \"E\", \"I\", \"O\", \"U\"]"
   ]
  },
  {
   "cell_type": "markdown",
   "metadata": {},
   "source": [
    "- Para cada vocal, imprime todas las vocales a la derecha:"
   ]
  },
  {
   "cell_type": "code",
   "execution_count": null,
   "metadata": {},
   "outputs": [],
   "source": [
    "for i in range(len(vocales)):\n",
    "    print(\"-- \" + vocales[i])\n",
    "    for j in range(i + 1, len(vocales)):\n",
    "        print(vocales[j])"
   ]
  }
 ],
 "metadata": {
  "kernelspec": {
   "display_name": "Python 3 (ipykernel)",
   "language": "python",
   "name": "python3"
  },
  "language_info": {
   "codemirror_mode": {
    "name": "ipython",
    "version": 3
   },
   "file_extension": ".py",
   "mimetype": "text/x-python",
   "name": "python",
   "nbconvert_exporter": "python",
   "pygments_lexer": "ipython3",
   "version": "3.10.12"
  },
  "widgets": {
   "application/vnd.jupyter.widget-state+json": {
    "state": {},
    "version_major": 2,
    "version_minor": 0
   }
  }
 },
 "nbformat": 4,
 "nbformat_minor": 4
}
